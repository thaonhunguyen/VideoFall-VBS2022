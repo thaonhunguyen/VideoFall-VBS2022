{
 "cells": [
  {
   "cell_type": "code",
   "execution_count": 1,
   "id": "c3a080f0-b36d-466c-84cc-d8ed9d1ba163",
   "metadata": {},
   "outputs": [],
   "source": [
    "import os\n",
    "os.chdir(os.path.dirname(os.getcwd()))"
   ]
  },
  {
   "cell_type": "code",
   "execution_count": 2,
   "id": "039eee26-3740-46ec-94a3-e6988f7a1c90",
   "metadata": {},
   "outputs": [],
   "source": [
    "from helpers import *\n",
    "import torch\n",
    "import json"
   ]
  },
  {
   "cell_type": "code",
   "execution_count": 3,
   "id": "55822a55-92c2-4ade-a883-66f0a47cf57d",
   "metadata": {},
   "outputs": [
    {
     "name": "stderr",
     "output_type": "stream",
     "text": [
      "Using cache found in /home/ntnhu/.cache/torch/hub/ultralytics_yolov5_master\n",
      "YOLOv5 🚀 2021-12-15 torch 1.9.1 CUDA:0 (GeForce RTX 3080 Ti, 12054MiB)\n",
      "\n",
      "Fusing layers... \n",
      "Model Summary: 290 layers, 21172173 parameters, 0 gradients\n",
      "Adding AutoShape... \n"
     ]
    }
   ],
   "source": [
    "# Model\n",
    "# model = torch.hub.load('ultralytics/yolov5', 'yolov5m')  # or yolov5m, yolov5l, yolov5x, custom\n",
    "# model = torch.load('yolov5m.pt')\n",
    "model = torch.hub.load('ultralytics/yolov5', 'custom', path='object_detection/yolov5_models/yolov5m.pt')\n",
    "\n",
    "# Images\n",
    "img = 'https://ultralytics.com/images/zidane.jpg'  # or file, Path, PIL, OpenCV, numpy, list\n",
    "\n",
    "# Inference\n",
    "results = model(img)\n"
   ]
  },
  {
   "cell_type": "code",
   "execution_count": null,
   "id": "cde4cd66-4fa2-4073-8445-5f3d288c1c82",
   "metadata": {},
   "outputs": [],
   "source": []
  },
  {
   "cell_type": "code",
   "execution_count": 4,
   "id": "de09c234-b8ac-47cc-9323-e3534886abbf",
   "metadata": {},
   "outputs": [
    {
     "data": {
      "text/html": [
       "<div>\n",
       "<style scoped>\n",
       "    .dataframe tbody tr th:only-of-type {\n",
       "        vertical-align: middle;\n",
       "    }\n",
       "\n",
       "    .dataframe tbody tr th {\n",
       "        vertical-align: top;\n",
       "    }\n",
       "\n",
       "    .dataframe thead th {\n",
       "        text-align: right;\n",
       "    }\n",
       "</style>\n",
       "<table border=\"1\" class=\"dataframe\">\n",
       "  <thead>\n",
       "    <tr style=\"text-align: right;\">\n",
       "      <th></th>\n",
       "      <th>xmin</th>\n",
       "      <th>ymin</th>\n",
       "      <th>xmax</th>\n",
       "      <th>ymax</th>\n",
       "      <th>confidence</th>\n",
       "      <th>class</th>\n",
       "      <th>name</th>\n",
       "    </tr>\n",
       "  </thead>\n",
       "  <tbody>\n",
       "    <tr>\n",
       "      <th>0</th>\n",
       "      <td>126.547394</td>\n",
       "      <td>197.141632</td>\n",
       "      <td>1143.490234</td>\n",
       "      <td>712.563477</td>\n",
       "      <td>0.857716</td>\n",
       "      <td>0</td>\n",
       "      <td>person</td>\n",
       "    </tr>\n",
       "    <tr>\n",
       "      <th>1</th>\n",
       "      <td>751.022095</td>\n",
       "      <td>43.456665</td>\n",
       "      <td>1131.118408</td>\n",
       "      <td>708.770752</td>\n",
       "      <td>0.785549</td>\n",
       "      <td>0</td>\n",
       "      <td>person</td>\n",
       "    </tr>\n",
       "    <tr>\n",
       "      <th>2</th>\n",
       "      <td>435.182251</td>\n",
       "      <td>435.544922</td>\n",
       "      <td>522.218811</td>\n",
       "      <td>718.979126</td>\n",
       "      <td>0.733487</td>\n",
       "      <td>27</td>\n",
       "      <td>tie</td>\n",
       "    </tr>\n",
       "    <tr>\n",
       "      <th>3</th>\n",
       "      <td>1103.674683</td>\n",
       "      <td>395.215576</td>\n",
       "      <td>1279.656128</td>\n",
       "      <td>713.860718</td>\n",
       "      <td>0.363860</td>\n",
       "      <td>0</td>\n",
       "      <td>person</td>\n",
       "    </tr>\n",
       "    <tr>\n",
       "      <th>4</th>\n",
       "      <td>983.109863</td>\n",
       "      <td>302.117584</td>\n",
       "      <td>1135.629150</td>\n",
       "      <td>707.364380</td>\n",
       "      <td>0.265507</td>\n",
       "      <td>27</td>\n",
       "      <td>tie</td>\n",
       "    </tr>\n",
       "  </tbody>\n",
       "</table>\n",
       "</div>"
      ],
      "text/plain": [
       "          xmin        ymin         xmax        ymax  confidence  class    name\n",
       "0   126.547394  197.141632  1143.490234  712.563477    0.857716      0  person\n",
       "1   751.022095   43.456665  1131.118408  708.770752    0.785549      0  person\n",
       "2   435.182251  435.544922   522.218811  718.979126    0.733487     27     tie\n",
       "3  1103.674683  395.215576  1279.656128  713.860718    0.363860      0  person\n",
       "4   983.109863  302.117584  1135.629150  707.364380    0.265507     27     tie"
      ]
     },
     "execution_count": 4,
     "metadata": {},
     "output_type": "execute_result"
    }
   ],
   "source": [
    "results.pandas().xyxy[0]"
   ]
  },
  {
   "cell_type": "code",
   "execution_count": 5,
   "id": "7fef4394-7c8e-4129-9e21-b915861d8c28",
   "metadata": {},
   "outputs": [],
   "source": [
    "temp = results.pandas().xyxy[0]\n",
    "save_df_to_json(temp, 'temp_2.json')"
   ]
  },
  {
   "cell_type": "code",
   "execution_count": 7,
   "id": "82c871c0-aa5a-42c3-a4f1-950a38acf0f6",
   "metadata": {},
   "outputs": [],
   "source": [
    "with open('temp_2.json', 'r') as handle:\n",
    "    text_data = handle.read()\n",
    "    text_data = '[' + re.sub(r'\\}\\s\\{', '},{', text_data) + ']'\n",
    "    json_data = json.loads(text_data)\n",
    "    data = json_data[0]"
   ]
  },
  {
   "cell_type": "code",
   "execution_count": 8,
   "id": "b2440cfd-4528-47ea-8087-cac25ac66a1c",
   "metadata": {},
   "outputs": [
    {
     "data": {
      "text/plain": [
       "[{'xmin': 126.5473937988,\n",
       "  'ymin': 197.1416320801,\n",
       "  'xmax': 1143.490234375,\n",
       "  'ymax': 712.5634765625,\n",
       "  'confidence': 0.8577162027,\n",
       "  'class': 0,\n",
       "  'name': 'person'},\n",
       " {'xmin': 751.0220947266,\n",
       "  'ymin': 43.4566650391,\n",
       "  'xmax': 1131.1184082031,\n",
       "  'ymax': 708.7707519531,\n",
       "  'confidence': 0.7855492234,\n",
       "  'class': 0,\n",
       "  'name': 'person'},\n",
       " {'xmin': 435.1822509766,\n",
       "  'ymin': 435.544921875,\n",
       "  'xmax': 522.2188110352,\n",
       "  'ymax': 718.9791259766,\n",
       "  'confidence': 0.7334873676,\n",
       "  'class': 27,\n",
       "  'name': 'tie'},\n",
       " {'xmin': 1103.6746826172,\n",
       "  'ymin': 395.2155761719,\n",
       "  'xmax': 1279.6561279297,\n",
       "  'ymax': 713.8607177734,\n",
       "  'confidence': 0.3638602495,\n",
       "  'class': 0,\n",
       "  'name': 'person'},\n",
       " {'xmin': 983.1098632812,\n",
       "  'ymin': 302.1175842285,\n",
       "  'xmax': 1135.6291503906,\n",
       "  'ymax': 707.3643798828,\n",
       "  'confidence': 0.2655066848,\n",
       "  'class': 27,\n",
       "  'name': 'tie'}]"
      ]
     },
     "execution_count": 8,
     "metadata": {},
     "output_type": "execute_result"
    }
   ],
   "source": [
    "data"
   ]
  },
  {
   "cell_type": "code",
   "execution_count": null,
   "id": "9418a08e-6980-4c66-a4b8-04b0ef066e5c",
   "metadata": {},
   "outputs": [],
   "source": []
  }
 ],
 "metadata": {
  "kernelspec": {
   "display_name": "vbs",
   "language": "python",
   "name": "vbs"
  },
  "language_info": {
   "codemirror_mode": {
    "name": "ipython",
    "version": 3
   },
   "file_extension": ".py",
   "mimetype": "text/x-python",
   "name": "python",
   "nbconvert_exporter": "python",
   "pygments_lexer": "ipython3",
   "version": "3.8.8"
  }
 },
 "nbformat": 4,
 "nbformat_minor": 5
}
