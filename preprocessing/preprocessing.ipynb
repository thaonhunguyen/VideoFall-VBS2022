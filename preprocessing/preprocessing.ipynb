{
 "cells": [
  {
   "cell_type": "code",
   "execution_count": 1,
   "id": "65a9f39d-3907-4961-b028-c6a05ab3394f",
   "metadata": {},
   "outputs": [],
   "source": [
    "from preprocessing import *\n",
    "import os\n",
    "import time\n",
    "from glob import glob\n"
   ]
  },
  {
   "cell_type": "code",
   "execution_count": 2,
   "id": "424f34b5-702d-47e0-9d8a-2767f661237e",
   "metadata": {},
   "outputs": [],
   "source": [
    "class parser():\n",
    "    src_path = '/mnt/DEAKIN/VBS2022/V3C1/*/*.png'\n",
    "    des_path = '/mnt/DEAKIN/VBS2022/resized_keyframes'\n",
    "    scale = 0.25\n",
    "    imwrite_ = True\n",
    "    \n",
    "#     def __init__(self):\n",
    "#         self.src_path = 'mnt'\n",
    "    "
   ]
  },
  {
   "cell_type": "code",
   "execution_count": 3,
   "id": "8d856fd2-b6a2-4473-8661-fbbb05fede40",
   "metadata": {},
   "outputs": [],
   "source": [
    "args = parser()"
   ]
  },
  {
   "cell_type": "code",
   "execution_count": 4,
   "id": "8a4093a8-89bf-4a83-9e91-cd326f0c3ca5",
   "metadata": {},
   "outputs": [
    {
     "name": "stderr",
     "output_type": "stream",
     "text": [
      "  0%|          | 0/10 [00:00<?, ?it/s]"
     ]
    },
    {
     "name": "stdout",
     "output_type": "stream",
     "text": [
      "1082658\n",
      "Processing ...\n",
      "/mnt/DEAKIN/VBS2022/V3C1/00001/shot00001_100_RKF.png\n",
      "/mnt/DEAKIN/VBS2022/V3C1/00001/shot00001_101_RKF.png\n"
     ]
    },
    {
     "name": "stderr",
     "output_type": "stream",
     "text": [
      "100%|██████████| 10/10 [00:04<00:00,  2.24it/s]"
     ]
    },
    {
     "name": "stdout",
     "output_type": "stream",
     "text": [
      "/mnt/DEAKIN/VBS2022/V3C1/00001/shot00001_102_RKF.png\n",
      "/mnt/DEAKIN/VBS2022/V3C1/00001/shot00001_103_RKF.png\n",
      "/mnt/DEAKIN/VBS2022/V3C1/00001/shot00001_104_RKF.png\n",
      "/mnt/DEAKIN/VBS2022/V3C1/00001/shot00001_105_RKF.png\n",
      "/mnt/DEAKIN/VBS2022/V3C1/00001/shot00001_106_RKF.png\n",
      "/mnt/DEAKIN/VBS2022/V3C1/00001/shot00001_107_RKF.png\n",
      "/mnt/DEAKIN/VBS2022/V3C1/00001/shot00001_108_RKF.png\n",
      "/mnt/DEAKIN/VBS2022/V3C1/00001/shot00001_109_RKF.png\n"
     ]
    },
    {
     "name": "stderr",
     "output_type": "stream",
     "text": [
      "\n"
     ]
    }
   ],
   "source": [
    "processing(args)"
   ]
  },
  {
   "cell_type": "code",
   "execution_count": null,
   "id": "82cfd45e-fd48-485f-a55a-9a7688e5bbba",
   "metadata": {},
   "outputs": [],
   "source": []
  },
  {
   "cell_type": "code",
   "execution_count": null,
   "id": "df3a6bb2-2b00-423b-a7d7-c88ddc7b3e5d",
   "metadata": {},
   "outputs": [],
   "source": []
  },
  {
   "cell_type": "markdown",
   "id": "81c2da75-0543-45fd-9503-0d5d0a301e54",
   "metadata": {
    "tags": [],
    "toc-hr-collapsed": true
   },
   "source": [
    "#### List all folders from V3C1"
   ]
  },
  {
   "cell_type": "code",
   "execution_count": 2,
   "id": "a9aaeb89-66b9-4609-9343-57ab425f7980",
   "metadata": {},
   "outputs": [
    {
     "data": {
      "text/plain": [
       "'/home/ntnhu/projects/VideoFall-VBS2022/preprocessing'"
      ]
     },
     "execution_count": 2,
     "metadata": {},
     "output_type": "execute_result"
    }
   ],
   "source": [
    "pwd"
   ]
  },
  {
   "cell_type": "code",
   "execution_count": 24,
   "id": "e0a035a1-0b01-4f76-8d4e-f16391ddc62e",
   "metadata": {},
   "outputs": [],
   "source": [
    "path = '/mnt/SEAGATE/root/V3C1/keyframes/extract/*/*.jpg'\n",
    "extract_path = '/mnt/SEAGATE/root/V3C1/keyframes/'"
   ]
  },
  {
   "cell_type": "code",
   "execution_count": 26,
   "id": "0cd6d686-9650-4e0e-b85f-53d419f9912c",
   "metadata": {},
   "outputs": [
    {
     "data": {
      "text/plain": [
       "7499"
      ]
     },
     "execution_count": 26,
     "metadata": {},
     "output_type": "execute_result"
    }
   ],
   "source": [
    "filenames = os.listdir(extract_path)\n",
    "path = os.walk(extract_path)\n",
    "len(filenames)"
   ]
  },
  {
   "cell_type": "code",
   "execution_count": 34,
   "id": "04282665-8318-4b6d-b0ca-0887a421cdd7",
   "metadata": {},
   "outputs": [],
   "source": [
    "subfolders = [ f.path for f in os.scandir(extract_path) if f.is_dir() ]\n",
    "with open('folder_names.txt', 'w') as f:\n",
    "    for folder in subfolders:\n",
    "        f.writelines(f'{folder}\\n')"
   ]
  },
  {
   "cell_type": "code",
   "execution_count": 30,
   "id": "036101f7-c613-43ae-b7ad-755b4022c37d",
   "metadata": {},
   "outputs": [
    {
     "data": {
      "text/plain": [
       "['/mnt/SEAGATE/root/V3C1/keyframes/04438',\n",
       " '/mnt/SEAGATE/root/V3C1/keyframes/03968',\n",
       " '/mnt/SEAGATE/root/V3C1/keyframes/02086',\n",
       " '/mnt/SEAGATE/root/V3C1/keyframes/04188',\n",
       " '/mnt/SEAGATE/root/V3C1/keyframes/04738',\n",
       " '/mnt/SEAGATE/root/V3C1/keyframes/03389',\n",
       " '/mnt/SEAGATE/root/V3C1/keyframes/05818',\n",
       " '/mnt/SEAGATE/root/V3C1/keyframes/01644',\n",
       " '/mnt/SEAGATE/root/V3C1/keyframes/03546',\n",
       " '/mnt/SEAGATE/root/V3C1/keyframes/04888',\n",
       " '/mnt/SEAGATE/root/V3C1/keyframes/00645',\n",
       " '/mnt/SEAGATE/root/V3C1/keyframes/01140',\n",
       " '/mnt/SEAGATE/root/V3C1/keyframes/05718',\n",
       " '/mnt/SEAGATE/root/V3C1/keyframes/01345',\n",
       " '/mnt/SEAGATE/root/V3C1/keyframes/04809',\n",
       " '/mnt/SEAGATE/root/V3C1/keyframes/05402',\n",
       " '/mnt/SEAGATE/root/V3C1/keyframes/extract',\n",
       " '/mnt/SEAGATE/root/V3C1/keyframes/05417',\n",
       " '/mnt/SEAGATE/root/V3C1/keyframes/07269']"
      ]
     },
     "execution_count": 30,
     "metadata": {},
     "output_type": "execute_result"
    }
   ],
   "source": [
    "subfolders"
   ]
  },
  {
   "cell_type": "code",
   "execution_count": null,
   "id": "23a4868a-d95f-4903-a11a-45cb31958f4c",
   "metadata": {},
   "outputs": [],
   "source": []
  },
  {
   "cell_type": "markdown",
   "id": "b63dfe66-f182-41a5-861b-2f02f8605801",
   "metadata": {},
   "source": [
    "#### Preprocessing"
   ]
  },
  {
   "cell_type": "code",
   "execution_count": 6,
   "id": "36b0666a-ce11-45c2-89f3-a8c40ecb1b66",
   "metadata": {},
   "outputs": [],
   "source": [
    "# path = '/mnt/DEAKIN/VBS2022/V3C1/*/*.png'\n",
    "resized_path = '/mnt/DEAKIN/VBS2022/resized_keyframes'"
   ]
  },
  {
   "cell_type": "code",
   "execution_count": 7,
   "id": "d55514b2-c534-46bf-9d2f-32235a26db4c",
   "metadata": {},
   "outputs": [
    {
     "data": {
      "text/plain": [
       "4.728970050811768"
      ]
     },
     "execution_count": 7,
     "metadata": {},
     "output_type": "execute_result"
    }
   ],
   "source": [
    "V3C1_path = '/mnt/DEAKIN/VBS2022/V3C1/*/*.png'\n",
    "V3C2_path = '/mnt/SEAGATE/root/V3C2/keyframes/*/*.png'\n",
    "\n",
    "begin = time.time()\n",
    "V3C1_filenames = glob(V3C1_path)\n",
    "V3C2_filenames = glob(V3C2_path)\n",
    "len(V3C1_filenames), len(V3C2_filenames)\n",
    "end = time.time()\n",
    "process_time = end - begin\n",
    "process_time"
   ]
  },
  {
   "cell_type": "code",
   "execution_count": 8,
   "id": "55493490-483b-4b36-8622-580b57342dd2",
   "metadata": {},
   "outputs": [
    {
     "data": {
      "text/plain": [
       "(1082658, 1425452)"
      ]
     },
     "execution_count": 8,
     "metadata": {},
     "output_type": "execute_result"
    }
   ],
   "source": [
    "len(V3C1_filenames), len(V3C2_filenames)"
   ]
  },
  {
   "cell_type": "code",
   "execution_count": 9,
   "id": "e2763096-27e4-4d24-acaa-858055682308",
   "metadata": {},
   "outputs": [
    {
     "name": "stdout",
     "output_type": "stream",
     "text": [
      "/mnt/DEAKIN/VBS2022/resized_keyframes/shot00001_100_RKF.png\n",
      "imwrite\n"
     ]
    }
   ],
   "source": [
    "resize(V3C1_filenames[0], scale=0.25, path=resized_path, imwrite_=True)"
   ]
  },
  {
   "cell_type": "code",
   "execution_count": null,
   "id": "e947425b-40a5-456f-8464-9e19deae3c8c",
   "metadata": {},
   "outputs": [],
   "source": []
  }
 ],
 "metadata": {
  "kernelspec": {
   "display_name": "Python 3",
   "language": "python",
   "name": "python3"
  },
  "language_info": {
   "codemirror_mode": {
    "name": "ipython",
    "version": 3
   },
   "file_extension": ".py",
   "mimetype": "text/x-python",
   "name": "python",
   "nbconvert_exporter": "python",
   "pygments_lexer": "ipython3",
   "version": "3.8.8"
  }
 },
 "nbformat": 4,
 "nbformat_minor": 5
}
