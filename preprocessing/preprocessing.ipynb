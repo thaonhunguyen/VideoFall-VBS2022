{
 "cells": [
  {
   "cell_type": "code",
   "execution_count": 1,
   "id": "65a9f39d-3907-4961-b028-c6a05ab3394f",
   "metadata": {},
   "outputs": [],
   "source": [
    "from preprocessing import *\n",
    "import os\n",
    "import time\n",
    "from glob import glob\n",
    "import joblib\n"
   ]
  },
  {
   "cell_type": "code",
   "execution_count": 2,
   "id": "424f34b5-702d-47e0-9d8a-2767f661237e",
   "metadata": {},
   "outputs": [],
   "source": [
    "class parser():\n",
    "    src_path = '/mnt/DEAKIN/VBS2022/V3C1/*/*.png'\n",
    "    des_path = '/mnt/DEAKIN/VBS2022/resized_keyframes'\n",
    "    scale = 0.25\n",
    "    imwrite_ = True\n",
    "    \n",
    "#     def __init__(self):\n",
    "#         self.src_path = 'mnt'\n",
    "    "
   ]
  },
  {
   "cell_type": "code",
   "execution_count": 3,
   "id": "8d856fd2-b6a2-4473-8661-fbbb05fede40",
   "metadata": {},
   "outputs": [],
   "source": [
    "args = parser()"
   ]
  },
  {
   "cell_type": "code",
   "execution_count": 4,
   "id": "8a4093a8-89bf-4a83-9e91-cd326f0c3ca5",
   "metadata": {},
   "outputs": [
    {
     "name": "stderr",
     "output_type": "stream",
     "text": [
      "  0%|          | 0/10 [00:00<?, ?it/s]"
     ]
    },
    {
     "name": "stdout",
     "output_type": "stream",
     "text": [
      "1082658\n",
      "Processing ...\n",
      "/mnt/DEAKIN/VBS2022/V3C1/00001/shot00001_100_RKF.png\n",
      "/mnt/DEAKIN/VBS2022/V3C1/00001/shot00001_101_RKF.png\n"
     ]
    },
    {
     "name": "stderr",
     "output_type": "stream",
     "text": [
      "100%|██████████| 10/10 [00:04<00:00,  2.24it/s]"
     ]
    },
    {
     "name": "stdout",
     "output_type": "stream",
     "text": [
      "/mnt/DEAKIN/VBS2022/V3C1/00001/shot00001_102_RKF.png\n",
      "/mnt/DEAKIN/VBS2022/V3C1/00001/shot00001_103_RKF.png\n",
      "/mnt/DEAKIN/VBS2022/V3C1/00001/shot00001_104_RKF.png\n",
      "/mnt/DEAKIN/VBS2022/V3C1/00001/shot00001_105_RKF.png\n",
      "/mnt/DEAKIN/VBS2022/V3C1/00001/shot00001_106_RKF.png\n",
      "/mnt/DEAKIN/VBS2022/V3C1/00001/shot00001_107_RKF.png\n",
      "/mnt/DEAKIN/VBS2022/V3C1/00001/shot00001_108_RKF.png\n",
      "/mnt/DEAKIN/VBS2022/V3C1/00001/shot00001_109_RKF.png\n"
     ]
    },
    {
     "name": "stderr",
     "output_type": "stream",
     "text": [
      "\n"
     ]
    }
   ],
   "source": [
    "processing(args)"
   ]
  },
  {
   "cell_type": "code",
   "execution_count": null,
   "id": "82cfd45e-fd48-485f-a55a-9a7688e5bbba",
   "metadata": {},
   "outputs": [],
   "source": []
  },
  {
   "cell_type": "code",
   "execution_count": 1,
   "id": "87ed8aa7-57f6-4d64-b3df-244bb9d6ffb8",
   "metadata": {},
   "outputs": [],
   "source": [
    "# x"
   ]
  },
  {
   "cell_type": "code",
   "execution_count": null,
   "id": "df3a6bb2-2b00-423b-a7d7-c88ddc7b3e5d",
   "metadata": {},
   "outputs": [],
   "source": []
  },
  {
   "cell_type": "markdown",
   "id": "81c2da75-0543-45fd-9503-0d5d0a301e54",
   "metadata": {
    "tags": [],
    "toc-hr-collapsed": true
   },
   "source": [
    "#### List all folders from V3C1"
   ]
  },
  {
   "cell_type": "code",
   "execution_count": 2,
   "id": "a9aaeb89-66b9-4609-9343-57ab425f7980",
   "metadata": {},
   "outputs": [
    {
     "data": {
      "text/plain": [
       "'/home/ntnhu/projects/VideoFall-VBS2022/preprocessing'"
      ]
     },
     "execution_count": 2,
     "metadata": {},
     "output_type": "execute_result"
    }
   ],
   "source": [
    "pwd"
   ]
  },
  {
   "cell_type": "code",
   "execution_count": 24,
   "id": "e0a035a1-0b01-4f76-8d4e-f16391ddc62e",
   "metadata": {},
   "outputs": [],
   "source": [
    "path = '/mnt/SEAGATE/root/V3C1/keyframes/extract/*/*.jpg'\n",
    "extract_path = '/mnt/SEAGATE/root/V3C1/keyframes/'"
   ]
  },
  {
   "cell_type": "code",
   "execution_count": 26,
   "id": "0cd6d686-9650-4e0e-b85f-53d419f9912c",
   "metadata": {},
   "outputs": [
    {
     "data": {
      "text/plain": [
       "7499"
      ]
     },
     "execution_count": 26,
     "metadata": {},
     "output_type": "execute_result"
    }
   ],
   "source": [
    "filenames = os.listdir(extract_path)\n",
    "path = os.walk(extract_path)\n",
    "len(filenames)"
   ]
  },
  {
   "cell_type": "code",
   "execution_count": 34,
   "id": "04282665-8318-4b6d-b0ca-0887a421cdd7",
   "metadata": {},
   "outputs": [],
   "source": [
    "subfolders = [ f.path for f in os.scandir(extract_path) if f.is_dir() ]\n",
    "with open('folder_names.txt', 'w') as f:\n",
    "    for folder in subfolders:\n",
    "        f.writelines(f'{folder}\\n')"
   ]
  },
  {
   "cell_type": "code",
   "execution_count": 30,
   "id": "036101f7-c613-43ae-b7ad-755b4022c37d",
   "metadata": {},
   "outputs": [
    {
     "data": {
      "text/plain": [
       "['/mnt/SEAGATE/root/V3C1/keyframes/04438',\n",
       " '/mnt/SEAGATE/root/V3C1/keyframes/03968',\n",
       " '/mnt/SEAGATE/root/V3C1/keyframes/02086',\n",
       " '/mnt/SEAGATE/root/V3C1/keyframes/04188',\n",
       " '/mnt/SEAGATE/root/V3C1/keyframes/04738',\n",
       " '/mnt/SEAGATE/root/V3C1/keyframes/03389',\n",
       " '/mnt/SEAGATE/root/V3C1/keyframes/05818',\n",
       " '/mnt/SEAGATE/root/V3C1/keyframes/01644',\n",
       " '/mnt/SEAGATE/root/V3C1/keyframes/03546',\n",
       " '/mnt/SEAGATE/root/V3C1/keyframes/04888',\n",
       " '/mnt/SEAGATE/root/V3C1/keyframes/00645',\n",
       " '/mnt/SEAGATE/root/V3C1/keyframes/01140',\n",
       " '/mnt/SEAGATE/root/V3C1/keyframes/05718',\n",
       " '/mnt/SEAGATE/root/V3C1/keyframes/01345',\n",
       " '/mnt/SEAGATE/root/V3C1/keyframes/04809',\n",
       " '/mnt/SEAGATE/root/V3C1/keyframes/05402',\n",
       " '/mnt/SEAGATE/root/V3C1/keyframes/extract',\n",
       " '/mnt/SEAGATE/root/V3C1/keyframes/05417',\n",
       " '/mnt/SEAGATE/root/V3C1/keyframes/07269']"
      ]
     },
     "execution_count": 30,
     "metadata": {},
     "output_type": "execute_result"
    }
   ],
   "source": [
    "subfolders"
   ]
  },
  {
   "cell_type": "code",
   "execution_count": null,
   "id": "23a4868a-d95f-4903-a11a-45cb31958f4c",
   "metadata": {},
   "outputs": [],
   "source": []
  },
  {
   "cell_type": "markdown",
   "id": "b63dfe66-f182-41a5-861b-2f02f8605801",
   "metadata": {},
   "source": [
    "#### Preprocessing"
   ]
  },
  {
   "cell_type": "code",
   "execution_count": 2,
   "id": "36b0666a-ce11-45c2-89f3-a8c40ecb1b66",
   "metadata": {},
   "outputs": [],
   "source": [
    "# path = '/mnt/DEAKIN/VBS2022/V3C1/*/*.png'\n",
    "resized_path = '/mnt/DEAKIN/VBS2022/resized_keyframes'"
   ]
  },
  {
   "cell_type": "code",
   "execution_count": 7,
   "id": "d55514b2-c534-46bf-9d2f-32235a26db4c",
   "metadata": {},
   "outputs": [
    {
     "data": {
      "text/plain": [
       "4.728970050811768"
      ]
     },
     "execution_count": 7,
     "metadata": {},
     "output_type": "execute_result"
    }
   ],
   "source": [
    "V3C1_path = '/mnt/DEAKIN/VBS2022/V3C1/*/*.png'\n",
    "V3C2_path = '/mnt/SEAGATE/root/V3C2/keyframes/*/*.png'\n",
    "\n",
    "begin = time.time()\n",
    "V3C1_filenames = glob(V3C1_path)\n",
    "V3C2_filenames = glob(V3C2_path)\n",
    "len(V3C1_filenames), len(V3C2_filenames)\n",
    "end = time.time()\n",
    "process_time = end - begin\n",
    "process_time"
   ]
  },
  {
   "cell_type": "code",
   "execution_count": 8,
   "id": "55493490-483b-4b36-8622-580b57342dd2",
   "metadata": {},
   "outputs": [
    {
     "data": {
      "text/plain": [
       "(1082658, 1425452)"
      ]
     },
     "execution_count": 8,
     "metadata": {},
     "output_type": "execute_result"
    }
   ],
   "source": [
    "len(V3C1_filenames), len(V3C2_filenames)"
   ]
  },
  {
   "cell_type": "code",
   "execution_count": 9,
   "id": "e2763096-27e4-4d24-acaa-858055682308",
   "metadata": {},
   "outputs": [
    {
     "name": "stdout",
     "output_type": "stream",
     "text": [
      "/mnt/DEAKIN/VBS2022/resized_keyframes/shot00001_100_RKF.png\n",
      "imwrite\n"
     ]
    }
   ],
   "source": [
    "resize(V3C1_filenames[0], scale=0.25, path=resized_path, imwrite_=True)"
   ]
  },
  {
   "cell_type": "code",
   "execution_count": null,
   "id": "e947425b-40a5-456f-8464-9e19deae3c8c",
   "metadata": {},
   "outputs": [],
   "source": []
  },
  {
   "cell_type": "code",
   "execution_count": null,
   "id": "e4ef9d17-b7d9-4c2d-9956-40ecfc130fab",
   "metadata": {},
   "outputs": [],
   "source": []
  },
  {
   "cell_type": "code",
   "execution_count": null,
   "id": "6414666d-fc0a-4078-a9ba-bf772d71a3c9",
   "metadata": {},
   "outputs": [],
   "source": []
  },
  {
   "cell_type": "code",
   "execution_count": 4,
   "id": "7b68c453-0a2a-4482-b65a-0b985c4faf62",
   "metadata": {},
   "outputs": [
    {
     "data": {
      "text/plain": [
       "'/home/ntnhu/projects/VideoFall-VBS2022/preprocessing'"
      ]
     },
     "execution_count": 4,
     "metadata": {},
     "output_type": "execute_result"
    }
   ],
   "source": [
    "pwd"
   ]
  },
  {
   "cell_type": "markdown",
   "id": "216abcdb-dc9c-4014-8166-048aa1a6233a",
   "metadata": {},
   "source": [
    "#### Number of keyframes"
   ]
  },
  {
   "cell_type": "code",
   "execution_count": 4,
   "id": "d323cbc3-63b9-43e8-b726-96bc8f5576fd",
   "metadata": {},
   "outputs": [],
   "source": [
    "import sys\n",
    "sys.path.append('/home/ntnhu/projects/VideoFall-VBS2022/searching')\n",
    "\n",
    "from helpers import *"
   ]
  },
  {
   "cell_type": "code",
   "execution_count": 6,
   "id": "59f1e514-3fe7-4e3f-8de5-932f903ad231",
   "metadata": {},
   "outputs": [],
   "source": [
    "V3C1_path = '/mnt/DEAKIN/VBS2022/V3C1'\n",
    "V3C1_videos = sort_list(os.listdir(V3C1_path))\n",
    "V3C1_keyframes = sort_list(glob(osp.join(V3C1_path, '*/*.png')))"
   ]
  },
  {
   "cell_type": "code",
   "execution_count": 7,
   "id": "a4c86a9c-d086-4da6-b39f-ee6016bbef64",
   "metadata": {},
   "outputs": [],
   "source": [
    "V3C2_path = '/mnt/SEAGATE/root/V3C2/keyframes/'\n",
    "V3C2_videos = sort_list(os.listdir(V3C2_path))\n",
    "V3C2_keyframes = sort_list(glob(osp.join(V3C2_path, '*/*.png')))"
   ]
  },
  {
   "cell_type": "code",
   "execution_count": 5,
   "id": "4b1918ea-81bb-4520-a04c-cd9dbe81a597",
   "metadata": {},
   "outputs": [],
   "source": [
    "keyframe_path = '/mnt/DEAKIN/VBS2022/resized_keyframes/*.png'\n",
    "keyframes = sort_list(glob(keyframe_path))"
   ]
  },
  {
   "cell_type": "code",
   "execution_count": 9,
   "id": "d81dc0d0-0b36-4117-a6fe-5e3fad295895",
   "metadata": {},
   "outputs": [],
   "source": [
    "# Add more keyframes\n",
    "add_kf_path = '/home/ntnhu/projects/VideoFall-VBS2022/results/resized_keyframes/*.png'\n",
    "add_kf = sort_list(glob(add_kf_path))"
   ]
  },
  {
   "cell_type": "code",
   "execution_count": 10,
   "id": "894f7ff9-f618-4512-aa5d-a70178499b2f",
   "metadata": {},
   "outputs": [
    {
     "data": {
      "text/plain": [
       "(2097152, 410958)"
      ]
     },
     "execution_count": 10,
     "metadata": {},
     "output_type": "execute_result"
    }
   ],
   "source": [
    "len(keyframes), len(add_kf)"
   ]
  },
  {
   "cell_type": "code",
   "execution_count": 7,
   "id": "a38e6ba4-5d52-4cd1-bb64-8c90e47f28e9",
   "metadata": {},
   "outputs": [],
   "source": [
    "# V3C1_keyframes[:10]"
   ]
  },
  {
   "cell_type": "code",
   "execution_count": 13,
   "id": "1e02c91e-15b5-4d39-b961-ad18387fdb81",
   "metadata": {},
   "outputs": [],
   "source": [
    "V3C1 = [x.split('/')[-1] for x in V3C1_keyframes]\n",
    "V3C2 = [x.split('/')[-1] for x in V3C2_keyframes]\n",
    "V3C = [x.split('/')[-1] for x in keyframes]"
   ]
  },
  {
   "cell_type": "code",
   "execution_count": 14,
   "id": "1a4945ed-e2f7-4190-b6ad-ad0c8888e5f4",
   "metadata": {},
   "outputs": [],
   "source": [
    "V3C1_diff = [osp.join(V3C1_path, x[4:9], x) for x in sort_list(list(set(V3C1) - set(V3C)))]\n",
    "V3C2_diff = [osp.join(V3C2_path, x[4:9],x) for x in sort_list(list(set(V3C2) - set(V3C)))]"
   ]
  },
  {
   "cell_type": "code",
   "execution_count": 17,
   "id": "d0d8d363-e24a-4ebf-b086-56b392070d36",
   "metadata": {},
   "outputs": [
    {
     "data": {
      "text/plain": [
       "['../preprocessing/V3C2_diff.joblib']"
      ]
     },
     "execution_count": 17,
     "metadata": {},
     "output_type": "execute_result"
    }
   ],
   "source": [
    "joblib.dump(V3C1_diff, '../preprocessing/V3C1_diff.joblib')\n",
    "joblib.dump(V3C2_diff, '../preprocessing/V3C2_diff.joblib')"
   ]
  },
  {
   "cell_type": "code",
   "execution_count": 18,
   "id": "496ef151-014d-46a2-b3ef-200ff420c268",
   "metadata": {},
   "outputs": [],
   "source": [
    "scale = 0.25\n",
    "des_path = '/mnt/DEAKIN/VBS2022/resized_keyframes'\n",
    "imwrite_ = True"
   ]
  },
  {
   "cell_type": "markdown",
   "id": "643a05d7-3e57-4d80-9781-243abdbe100b",
   "metadata": {},
   "source": [
    "#### Check again with the main folder"
   ]
  },
  {
   "cell_type": "code",
   "execution_count": 22,
   "id": "2eb10fd8-68dd-422d-9856-2a458bd8d6c8",
   "metadata": {},
   "outputs": [
    {
     "data": {
      "text/plain": [
       "['/mnt/DEAKIN/VBS2022/V3C1/07213/shot07213_2_RKF.png',\n",
       " '/mnt/DEAKIN/VBS2022/V3C1/07213/shot07213_3_RKF.png',\n",
       " '/mnt/DEAKIN/VBS2022/V3C1/07213/shot07213_4_RKF.png',\n",
       " '/mnt/DEAKIN/VBS2022/V3C1/07213/shot07213_5_RKF.png',\n",
       " '/mnt/DEAKIN/VBS2022/V3C1/07213/shot07213_6_RKF.png',\n",
       " '/mnt/DEAKIN/VBS2022/V3C1/07213/shot07213_7_RKF.png',\n",
       " '/mnt/DEAKIN/VBS2022/V3C1/07213/shot07213_8_RKF.png',\n",
       " '/mnt/DEAKIN/VBS2022/V3C1/07213/shot07213_9_RKF.png',\n",
       " '/mnt/DEAKIN/VBS2022/V3C1/07213/shot07213_26_RKF.png',\n",
       " '/mnt/DEAKIN/VBS2022/V3C1/07213/shot07213_27_RKF.png']"
      ]
     },
     "execution_count": 22,
     "metadata": {},
     "output_type": "execute_result"
    }
   ],
   "source": [
    "filename_list = joblib.load('V3C1_diff.joblib')\n",
    "filename_list[:10]"
   ]
  },
  {
   "cell_type": "code",
   "execution_count": 32,
   "id": "de6a72be-c64d-4cc2-8fea-2f9ecb9bde92",
   "metadata": {},
   "outputs": [],
   "source": [
    "keyframe_path = '/mnt/DEAKIN/VBS2022/resized_keyframes/*.png'\n",
    "keyframes = sort_list(glob(keyframe_path))\n",
    "V3C = [x.split('/')[-1] for x in keyframes]"
   ]
  },
  {
   "cell_type": "code",
   "execution_count": 33,
   "id": "c46d680b-9877-411c-98a5-09d03fbdbfa6",
   "metadata": {},
   "outputs": [
    {
     "data": {
      "text/plain": [
       "2097152"
      ]
     },
     "execution_count": 33,
     "metadata": {},
     "output_type": "execute_result"
    }
   ],
   "source": [
    "len(V3C)"
   ]
  },
  {
   "cell_type": "code",
   "execution_count": 30,
   "id": "90069e7e-a5ea-4f52-a9af-562d74a012c8",
   "metadata": {},
   "outputs": [
    {
     "data": {
      "text/plain": [
       "2097152"
      ]
     },
     "execution_count": 30,
     "metadata": {},
     "output_type": "execute_result"
    }
   ],
   "source": [
    "len(V3C)"
   ]
  },
  {
   "cell_type": "code",
   "execution_count": 26,
   "id": "7797eff8-3746-4533-a067-decf6d78507a",
   "metadata": {},
   "outputs": [
    {
     "data": {
      "text/plain": [
       "['shot07213_2_RKF.png',\n",
       " 'shot07213_3_RKF.png',\n",
       " 'shot07213_4_RKF.png',\n",
       " 'shot07213_5_RKF.png',\n",
       " 'shot07213_6_RKF.png',\n",
       " 'shot07213_7_RKF.png',\n",
       " 'shot07213_8_RKF.png',\n",
       " 'shot07213_9_RKF.png',\n",
       " 'shot07213_26_RKF.png',\n",
       " 'shot07213_27_RKF.png']"
      ]
     },
     "execution_count": 26,
     "metadata": {},
     "output_type": "execute_result"
    }
   ],
   "source": [
    "test_name = [x.split('/')[-1] for x in filename_list]\n",
    "test_name[:10]"
   ]
  },
  {
   "cell_type": "code",
   "execution_count": 31,
   "id": "7ceb287f-b14e-4d25-86c4-3f25e6ea5684",
   "metadata": {},
   "outputs": [],
   "source": [
    "for i, x in enumerate(test_name[:11]):\n",
    "    if x in V3C:\n",
    "        print(i)"
   ]
  },
  {
   "cell_type": "code",
   "execution_count": null,
   "id": "1213d7bd-509b-4ae4-8bb3-918feb64ecbb",
   "metadata": {},
   "outputs": [],
   "source": []
  },
  {
   "cell_type": "code",
   "execution_count": null,
   "id": "f79defaa-421c-4432-b9b6-88224536b676",
   "metadata": {},
   "outputs": [],
   "source": []
  },
  {
   "cell_type": "code",
   "execution_count": null,
   "id": "7d0debd9-1485-4ece-ad91-16f5c8d448cb",
   "metadata": {},
   "outputs": [],
   "source": []
  },
  {
   "cell_type": "code",
   "execution_count": null,
   "id": "8675beec-9a60-4b29-8930-42c19724c11b",
   "metadata": {},
   "outputs": [],
   "source": []
  }
 ],
 "metadata": {
  "kernelspec": {
   "display_name": "Python 3",
   "language": "python",
   "name": "python3"
  },
  "language_info": {
   "codemirror_mode": {
    "name": "ipython",
    "version": 3
   },
   "file_extension": ".py",
   "mimetype": "text/x-python",
   "name": "python",
   "nbconvert_exporter": "python",
   "pygments_lexer": "ipython3",
   "version": "3.8.8"
  }
 },
 "nbformat": 4,
 "nbformat_minor": 5
}
