{
 "cells": [
  {
   "cell_type": "code",
   "execution_count": 1,
   "id": "0cc88fe2-f7a3-484e-b95a-494f795a79cb",
   "metadata": {},
   "outputs": [
    {
     "name": "stdout",
     "output_type": "stream",
     "text": [
      "Current directory:  /home/ntnhu/projects/VideoFall-VBS2022\n"
     ]
    }
   ],
   "source": [
    "import io\n",
    "import os\n",
    "import os.path as osp\n",
    "import pandas as pd\n",
    "\n",
    "os.chdir(os.path.dirname(os.getcwd()))\n",
    "from helpers import *\n",
    "from configs import *\n",
    "from google.cloud import vision\n",
    "from tqdm import tqdm\n",
    "from PIL import Image\n",
    "from glob import glob\n",
    "\n",
    "print(\"Current directory: \", os.getcwd())"
   ]
  },
  {
   "cell_type": "markdown",
   "id": "edb63961-78fc-4cad-b970-f1562e02d893",
   "metadata": {
    "tags": []
   },
   "source": [
    "### Provided V3C1-OCR"
   ]
  },
  {
   "cell_type": "markdown",
   "id": "5f6899a4-2b3a-4776-93bd-a58d364faec0",
   "metadata": {},
   "source": [
    "https://github.com/klschoef/V3C1Analysis"
   ]
  },
  {
   "cell_type": "code",
   "execution_count": 38,
   "id": "4c879e53-d414-4bed-803a-e78788b7074a",
   "metadata": {},
   "outputs": [],
   "source": [
    "V3C1_OCR_path = osp.join(DATASET_MASTER_PATH, 'provided_ocr/V3C1_ocr')\n",
    "allshots_filename = osp.join(V3C1_OCR_path, 'msb-allshots.txt')\n",
    "allshots_indices_filename = osp.join(V3C1_OCR_path, 'msb-allshots-indices.txt')\n",
    "type_filename = 'muchtext'\n",
    "text_filename = osp.join(V3C1_OCR_path, f'{type_filename}.txt')\n",
    "text_keyframe_filename = osp.join(V3C1_OCR_path, f'{type_filename}_keyframes.txt')\n",
    "V3C1_OCR_keyframes_filename = osp.join(DATASET_MASTER_PATH, 'OCR/V3C1_OCR_keyframes.txt')"
   ]
  },
  {
   "cell_type": "markdown",
   "id": "4c6bdd3e-929f-4d00-8962-6d68abd19d4d",
   "metadata": {
    "tags": [],
    "toc-hr-collapsed": true
   },
   "source": [
    "#### Add indices into file msb"
   ]
  },
  {
   "cell_type": "code",
   "execution_count": 7,
   "id": "bb8daeab-7742-4385-bb3a-adefcd11d5c0",
   "metadata": {},
   "outputs": [],
   "source": [
    "with open(allshots_filename, 'r') as file:\n",
    "    allshots = file.read().splitlines()\n",
    "    allshots.pop(0)\n",
    "    allshots = sort_list(allshots)"
   ]
  },
  {
   "cell_type": "code",
   "execution_count": 15,
   "id": "5550d6a3-5aae-4149-a5ee-e8f89e6bf1f1",
   "metadata": {},
   "outputs": [
    {
     "name": "stderr",
     "output_type": "stream",
     "text": [
      "100%|████████████████████████████████████████████████████████████████████████████████████████████████████████████████████████████████████████████████████████████| 1082657/1082657 [00:00<00:00, 1429069.47it/s]\n"
     ]
    }
   ],
   "source": [
    "curr_video_idx = int(allshots[0][:5])\n",
    "index = 1\n",
    "for i, item in enumerate(tqdm(allshots)):\n",
    "    video_idx = int(item[:5])\n",
    "    if video_idx > curr_video_idx:\n",
    "        index = 1\n",
    "        curr_video_idx = video_idx\n",
    "    allshots[i] = ';'.join([item[:5], item[10:], str(index)])\n",
    "    index = index + 1\n",
    "\n",
    "with open(allshots_indices_filename, 'w') as file:\n",
    "    file.write('video;startframe;endframe;keyframe;index\\n')\n",
    "    file.writelines('\\n'.join(allshots))"
   ]
  },
  {
   "cell_type": "markdown",
   "id": "d084d43f-e793-433f-acc2-20e5e3fe9a20",
   "metadata": {
    "tags": [],
    "toc-hr-collapsed": true
   },
   "source": [
    "#### Convert provided OCR file into shot name file"
   ]
  },
  {
   "cell_type": "code",
   "execution_count": 3,
   "id": "6f3501b0-70bf-47d4-9739-a4a15013490e",
   "metadata": {},
   "outputs": [
    {
     "name": "stderr",
     "output_type": "stream",
     "text": [
      "100%|████████████████████████████████████████████████████████████████████████████████████████████████████████████████████████████████████████████████████████████| 1082657/1082657 [00:00<00:00, 1147108.97it/s]\n"
     ]
    }
   ],
   "source": [
    "with open(allshots_indices_filename, 'r') as file:\n",
    "    shot_indices = file.read().splitlines()\n",
    "    shot_indices.pop(0)\n",
    "    shot_indices = sort_list(shot_indices)\n",
    "\n",
    "# Convert shots with indices into dictionary for later user\n",
    "shot_indices_dict = {}\n",
    "for item in tqdm(shot_indices):\n",
    "    item_list = item.split(';')\n",
    "    index = '{0}/{0}_{1:07d}'.format(item_list[0], int(item_list[3]))\n",
    "    shot_indices_dict[index] = item_list[-1]\n",
    "\n",
    "with open(text_keyframe_filename, 'r') as file:\n",
    "    text = file.read().splitlines()\n",
    "    text.pop(0)\n",
    "    text = sort_list(text)\n",
    "    \n",
    "name_list = []\n",
    "for item in tqdm(text):\n",
    "    video = item[:5]\n",
    "    index = shot_indices_dict[item]\n",
    "    name = '{0}/shot{0}_{1}_RKF.png'.format(video, index)\n",
    "    name_list.append(name)\n",
    "\n",
    "with open(text_keyframe_filename, 'w') as file:\n",
    "    file.writelines('\\n'.join(name_list))"
   ]
  },
  {
   "cell_type": "markdown",
   "id": "936bb151-d615-4c33-b8d2-9c0c0dc80edf",
   "metadata": {
    "tags": [],
    "toc-hr-collapsed": true
   },
   "source": [
    "#### Save V3C1 OCR keyframes file"
   ]
  },
  {
   "cell_type": "code",
   "execution_count": 39,
   "id": "a70250a6-bbc5-4ec7-bba9-76daf983532d",
   "metadata": {},
   "outputs": [],
   "source": [
    "OCR_filename = osp.join(DATASET_MASTER_PATH, 'OCR/OCR_V3C1.json')\n",
    "with open(osp.join(V3C1_OCR_path, 'muchtext_keyframes.txt'), 'r') as file:\n",
    "    muchtext_keyframes = file.read().splitlines()\n",
    "with open(osp.join(V3C1_OCR_path, 'fewtext_keyframes.txt'), 'r') as file:\n",
    "    fewtext_keyframes = file.read().splitlines()\n",
    "    \n",
    "text_keyframes = fewtext_keyframes + muchtext_keyframes\n",
    "v3c1_ocr_names = sort_list(text_keyframes)\n",
    "\n",
    "with open(V3C1_OCR_keyframes_filename, 'w') as file:\n",
    "    file.writelines('\\n'.join(v3c1_ocr_names))"
   ]
  },
  {
   "cell_type": "markdown",
   "id": "e2ae1d19-c47d-4090-85e9-1e8bba75b0a3",
   "metadata": {},
   "source": [
    "#### Read V3C1 OCR keyframes"
   ]
  },
  {
   "cell_type": "code",
   "execution_count": 56,
   "id": "8c69ab1c-3609-4a00-a353-d2635fab561c",
   "metadata": {},
   "outputs": [],
   "source": [
    "with open(V3C1_OCR_keyframes_filename, 'r') as file:\n",
    "    v3c1_ocr_names = file.read().splitlines()"
   ]
  },
  {
   "cell_type": "markdown",
   "id": "90f94ce6-2947-4503-9755-00c4f7022eea",
   "metadata": {
    "tags": []
   },
   "source": [
    "### Provided V3C2-OCR"
   ]
  },
  {
   "cell_type": "markdown",
   "id": "92c38b63-8fe3-4089-9c0f-b90ec5761238",
   "metadata": {},
   "source": [
    "https://github.com/lucaro/V3C2Analysis"
   ]
  },
  {
   "cell_type": "code",
   "execution_count": 34,
   "id": "e67b93b2-d993-4a69-81c4-5ade81156023",
   "metadata": {},
   "outputs": [],
   "source": [
    "V3C2_OCR_path = osp.join(DATASET_MASTER_PATH, 'provided_ocr/V3C2_ocr')\n",
    "video_names = glob(osp.join(V3C2_OCR_path, '*.json'))\n",
    "V3C2_OCR_keyframes_filename = osp.join(DATASET_MASTER_PATH, 'OCR/V3C2_OCR_keyframes.txt')"
   ]
  },
  {
   "cell_type": "markdown",
   "id": "0364925b-feeb-4bca-b584-28c2456b472d",
   "metadata": {
    "tags": [],
    "toc-hr-collapsed": true
   },
   "source": [
    "#### Save V3C2 OCR keyframes file"
   ]
  },
  {
   "cell_type": "code",
   "execution_count": 48,
   "id": "b199ab8c-8df9-414b-83a8-c4f0a31342e8",
   "metadata": {},
   "outputs": [
    {
     "name": "stderr",
     "output_type": "stream",
     "text": [
      "100%|██████████████████████████████████████████████████████████████████████████████████████████████████████████████████████████████████████████████████████████████████████| 9760/9760 [00:21<00:00, 450.68it/s]\n"
     ]
    }
   ],
   "source": [
    "v3c2_ocr_names = []\n",
    "for video_name in tqdm(video_names):\n",
    "    video = video_name.split('/')[-1][:5]\n",
    "    easyocr = load_json(video_name)\n",
    "    keys = list(easyocr.keys())\n",
    "    if len(keys) != 0:\n",
    "        for key in keys:\n",
    "            v3c2_ocr_names.append('{0}/shot{0}_{1}_RKF.png'.format(video, key))\n",
    "v3c2_ocr_names = sort_list(v3c2_ocr_names)\n",
    "\n",
    "with open(V3C2_OCR_keyframes_filename, 'w') as file:\n",
    "    file.writelines('\\n'.join(v3c2_ocr_names))"
   ]
  },
  {
   "cell_type": "markdown",
   "id": "1ebb387e-3921-44da-be23-29c492cc3717",
   "metadata": {},
   "source": [
    "#### Read V3C2 OCR keyframes"
   ]
  },
  {
   "cell_type": "code",
   "execution_count": 52,
   "id": "6bfad2f1-7ede-472d-aa59-668b7e83e704",
   "metadata": {},
   "outputs": [],
   "source": [
    "with open(V3C2_OCR_keyframes_filename, 'r') as file:\n",
    "    v3c2_ocr_names = file.read().splitlines()"
   ]
  },
  {
   "cell_type": "markdown",
   "id": "19d4802d-45ae-4129-94ff-9180188a0149",
   "metadata": {
    "tags": []
   },
   "source": [
    "### Google API"
   ]
  },
  {
   "cell_type": "code",
   "execution_count": 32,
   "id": "6fe04a83-251c-4209-9d03-e0f171c15cc6",
   "metadata": {},
   "outputs": [],
   "source": [
    "# OCR_filename = osp.join(DATASET_MASTER_PATH, 'OCR/OCR_V3C1.json')\n",
    "# with open(osp.join(V3C1_OCR_path, 'muchtext_keyframes.txt'), 'r') as file:\n",
    "#     muchtext_keyframes = file.read().splitlines()\n",
    "# with open(osp.join(V3C1_OCR_path, 'fewtext_keyframes.txt'), 'r') as file:\n",
    "#     fewtext_keyframes = file.read().splitlines()\n",
    "    \n",
    "# text_keyframes = fewtext_keyframes + muchtext_keyframes\n",
    "text_keyframes = sort_list(text_keyframes)"
   ]
  },
  {
   "cell_type": "code",
   "execution_count": 5,
   "id": "d4b4b343-1db3-4114-b792-d5fdd9e045b2",
   "metadata": {},
   "outputs": [],
   "source": [
    "# Path to the Credential json (download from GG)\n",
    "os.environ[\"GOOGLE_APPLICATION_CREDENTIALS\"]=\"/home/ntnhu/projects/VideoFall-VBS2022/OCR/vbs-ocr.json\" \n",
    "\n",
    "def convert_response_to_list(res):\n",
    "    texts = res.text_annotations\n",
    "    result = []\n",
    "    for text in texts:\n",
    "        di = dict()\n",
    "        di['text'] = text.description\n",
    "        di['bb'] = [(vertex.x, vertex.y) for vertex in text.bounding_poly.vertices]\n",
    "        result.append(di)\n",
    "    return result\n",
    "\n",
    "# Declare API\n",
    "client = vision.ImageAnnotatorClient()"
   ]
  },
  {
   "cell_type": "code",
   "execution_count": null,
   "id": "b84a7b38-3e65-4a87-b0b9-aae53c2563c4",
   "metadata": {},
   "outputs": [],
   "source": [
    "OCR_dict = {}\n",
    "for img_id in tqdm(text_keyframes):\n",
    "    path = osp.join(KEYFRAME_PATH, img_id)\n",
    "\n",
    "    with io.open(path, 'rb') as image_file:\n",
    "        content = image_file.read()\n",
    "    image = vision.Image(content=content)\n",
    "\n",
    "    # Run API (its free 1000 times/month --> later 1.5 / 1000 calls)\n",
    "    response = client.text_detection(image=image)\n",
    "    texts = [text.description for text in response.text_annotations]\n",
    "    ocr = ' '.join(texts)\n",
    "    ocr = ocr.replace('\\n', ' ')\n",
    "    ocr = re.sub(' +', ' ', ocr)\n",
    "    OCR_dict[img_id] = ocr\n",
    "    \n",
    "with open(V3C2_OCR_keyframes_filename, 'w') as file:\n",
    "    file.writelines('\\n'.join(v3c2_ocr_names))"
   ]
  }
 ],
 "metadata": {
  "kernelspec": {
   "display_name": "ggapi",
   "language": "python",
   "name": "ggapi"
  },
  "language_info": {
   "codemirror_mode": {
    "name": "ipython",
    "version": 3
   },
   "file_extension": ".py",
   "mimetype": "text/x-python",
   "name": "python",
   "nbconvert_exporter": "python",
   "pygments_lexer": "ipython3",
   "version": "3.8.12"
  }
 },
 "nbformat": 4,
 "nbformat_minor": 5
}
