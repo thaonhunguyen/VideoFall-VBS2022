{
 "cells": [
  {
   "cell_type": "code",
   "execution_count": 1,
   "id": "0cc88fe2-f7a3-484e-b95a-494f795a79cb",
   "metadata": {},
   "outputs": [
    {
     "name": "stdout",
     "output_type": "stream",
     "text": [
      "Current directory:  /home/ntnhu/projects/VideoFall-VBS2022\n"
     ]
    }
   ],
   "source": [
    "import io\n",
    "import os\n",
    "import os.path as osp\n",
    "import pandas as pd\n",
    "\n",
    "os.chdir(os.path.dirname(os.getcwd()))\n",
    "from helpers import *\n",
    "from configs import *\n",
    "from google.cloud import vision\n",
    "from tqdm import tqdm\n",
    "from PIL import Image\n",
    "\n",
    "print(\"Current directory: \", os.getcwd())"
   ]
  },
  {
   "cell_type": "code",
   "execution_count": null,
   "id": "768f5292-2795-4b23-a1e9-4c905951b4b0",
   "metadata": {},
   "outputs": [],
   "source": []
  },
  {
   "cell_type": "code",
   "execution_count": null,
   "id": "4b0448d9-e2bd-4768-a477-c108fefaacfc",
   "metadata": {},
   "outputs": [],
   "source": []
  },
  {
   "cell_type": "code",
   "execution_count": null,
   "id": "f34a695f-82d5-4c70-8b4c-ca2a818a2539",
   "metadata": {},
   "outputs": [],
   "source": []
  },
  {
   "cell_type": "code",
   "execution_count": null,
   "id": "f2d8f5cd-0836-49f3-989c-22c5e45031c6",
   "metadata": {},
   "outputs": [],
   "source": []
  },
  {
   "cell_type": "markdown",
   "id": "edb63961-78fc-4cad-b970-f1562e02d893",
   "metadata": {
    "tags": []
   },
   "source": [
    "### Provided V3C1-OCR"
   ]
  },
  {
   "cell_type": "markdown",
   "id": "5f6899a4-2b3a-4776-93bd-a58d364faec0",
   "metadata": {},
   "source": [
    "https://github.com/klschoef/V3C1Analysis"
   ]
  },
  {
   "cell_type": "code",
   "execution_count": 2,
   "id": "4c879e53-d414-4bed-803a-e78788b7074a",
   "metadata": {},
   "outputs": [],
   "source": [
    "V3C1_OCR_path = osp.join(DATASET_MASTER_PATH, 'provided_ocr/V3C1_ocr')\n",
    "allshots_filename = osp.join(V3C1_OCR_path, 'msb-allshots.txt')\n",
    "allshots_indices_filename = osp.join(V3C1_OCR_path, 'msb-allshots-indices.txt')\n",
    "type_filename = 'muchtext'\n",
    "text_filename = osp.join(V3C1_OCR_path, f'{type_filename}.txt')\n",
    "text_keyframes = osp.join(V3C1_OCR_path, f'{type_filename}_keyframes.txt')"
   ]
  },
  {
   "cell_type": "code",
   "execution_count": null,
   "id": "69e8e38f-4052-4419-abac-501bc21066bd",
   "metadata": {},
   "outputs": [],
   "source": []
  },
  {
   "cell_type": "markdown",
   "id": "4c6bdd3e-929f-4d00-8962-6d68abd19d4d",
   "metadata": {
    "tags": [],
    "toc-hr-collapsed": true
   },
   "source": [
    "#### Add indices into file msb"
   ]
  },
  {
   "cell_type": "code",
   "execution_count": 7,
   "id": "bb8daeab-7742-4385-bb3a-adefcd11d5c0",
   "metadata": {},
   "outputs": [],
   "source": [
    "with open(allshots_filename, 'r') as file:\n",
    "    allshots = file.read().splitlines()\n",
    "    allshots.pop(0)\n",
    "    allshots = sort_list(allshots)"
   ]
  },
  {
   "cell_type": "code",
   "execution_count": 15,
   "id": "5550d6a3-5aae-4149-a5ee-e8f89e6bf1f1",
   "metadata": {},
   "outputs": [
    {
     "name": "stderr",
     "output_type": "stream",
     "text": [
      "100%|████████████████████████████████████████████████████████████████████████████████████████████████████████████████████████████████████████████████████████████| 1082657/1082657 [00:00<00:00, 1429069.47it/s]\n"
     ]
    }
   ],
   "source": [
    "curr_video_idx = int(allshots[0][:5])\n",
    "index = 1\n",
    "for i, item in enumerate(tqdm(allshots)):\n",
    "    video_idx = int(item[:5])\n",
    "    if video_idx > curr_video_idx:\n",
    "        index = 1\n",
    "        curr_video_idx = video_idx\n",
    "    allshots[i] = ';'.join([item[:5], item[10:], str(index)])\n",
    "    index = index + 1"
   ]
  },
  {
   "cell_type": "code",
   "execution_count": 16,
   "id": "34413896-4568-4662-88e5-dfe439043dc7",
   "metadata": {},
   "outputs": [],
   "source": [
    "with open(allshots_indices_filename, 'w') as file:\n",
    "    file.write('video;startframe;endframe;keyframe;index\\n')\n",
    "    file.writelines('\\n'.join(allshots))"
   ]
  },
  {
   "cell_type": "code",
   "execution_count": null,
   "id": "7bf64183-3cfb-491c-a5a1-ff970cef3f90",
   "metadata": {},
   "outputs": [],
   "source": []
  },
  {
   "cell_type": "markdown",
   "id": "d084d43f-e793-433f-acc2-20e5e3fe9a20",
   "metadata": {
    "tags": []
   },
   "source": [
    "#### Convert provided OCR file into shot name file"
   ]
  },
  {
   "cell_type": "code",
   "execution_count": 3,
   "id": "6f3501b0-70bf-47d4-9739-a4a15013490e",
   "metadata": {},
   "outputs": [
    {
     "name": "stderr",
     "output_type": "stream",
     "text": [
      "100%|████████████████████████████████████████████████████████████████████████████████████████████████████████████████████████████████████████████████████████████| 1082657/1082657 [00:00<00:00, 1141790.32it/s]\n"
     ]
    }
   ],
   "source": [
    "with open(allshots_indices_filename, 'r') as file:\n",
    "    shot_indices = file.read().splitlines()\n",
    "    shot_indices.pop(0)\n",
    "    shot_indices = sort_list(shot_indices)\n",
    "\n",
    "# Convert shots with indices into dictionary for later user\n",
    "shot_indices_dict = {}\n",
    "for item in tqdm(shot_indices):\n",
    "    item_list = item.split(';')\n",
    "    index = '{0}/{0}_{1:07d}'.format(item_list[0], int(item_list[3]))\n",
    "    shot_indices_dict[index] = item_list[-1]"
   ]
  },
  {
   "cell_type": "code",
   "execution_count": 4,
   "id": "15a38100-f3d9-4d2a-b971-b2480dd38f49",
   "metadata": {},
   "outputs": [],
   "source": [
    "with open(text_filename, 'r') as file:\n",
    "    text = file.read().splitlines()\n",
    "    text.pop(0)\n",
    "    text = sort_list(text)"
   ]
  },
  {
   "cell_type": "code",
   "execution_count": 5,
   "id": "54c646e4-8973-4cf6-9cd1-5838b08a37e3",
   "metadata": {},
   "outputs": [
    {
     "name": "stderr",
     "output_type": "stream",
     "text": [
      "100%|████████████████████████████████████████████████████████████████████████████████████████████████████████████████████████████████████████████████████████████████| 18861/18861 [00:00<00:00, 1055163.43it/s]\n"
     ]
    }
   ],
   "source": [
    "name_list = []\n",
    "for item in tqdm(text):\n",
    "    video = item[:5]\n",
    "    index = shot_indices_dict[item]\n",
    "    name = '{0}/shot{0}_{1}_RKF.png'.format(video, index)\n",
    "    name_list.append(name)\n",
    "\n",
    "with open(text_keyframes, 'w') as file:\n",
    "    file.writelines('\\n'.join(name_list))"
   ]
  },
  {
   "cell_type": "code",
   "execution_count": null,
   "id": "a70250a6-bbc5-4ec7-bba9-76daf983532d",
   "metadata": {},
   "outputs": [],
   "source": []
  },
  {
   "cell_type": "markdown",
   "id": "90f94ce6-2947-4503-9755-00c4f7022eea",
   "metadata": {
    "tags": [],
    "toc-hr-collapsed": true
   },
   "source": [
    "### Provided V3C2-OCR"
   ]
  },
  {
   "cell_type": "markdown",
   "id": "92c38b63-8fe3-4089-9c0f-b90ec5761238",
   "metadata": {},
   "source": [
    "https://github.com/lucaro/V3C2Analysis"
   ]
  },
  {
   "cell_type": "code",
   "execution_count": null,
   "id": "b199ab8c-8df9-414b-83a8-c4f0a31342e8",
   "metadata": {},
   "outputs": [],
   "source": []
  },
  {
   "cell_type": "code",
   "execution_count": 19,
   "id": "e29d4604-761f-48e9-8976-5431d920299e",
   "metadata": {},
   "outputs": [
    {
     "name": "stdout",
     "output_type": "stream",
     "text": [
      "00001/00001_0000348\n"
     ]
    },
    {
     "ename": "TypeError",
     "evalue": "a bytes-like object is required, not 'str'",
     "output_type": "error",
     "traceback": [
      "\u001b[0;31m---------------------------------------------------------------------------\u001b[0m",
      "\u001b[0;31mTypeError\u001b[0m                                 Traceback (most recent call last)",
      "\u001b[0;32m/tmp/ipykernel_739082/1774002023.py\u001b[0m in \u001b[0;36m<module>\u001b[0;34m\u001b[0m\n\u001b[1;32m      2\u001b[0m     \u001b[0;32mfor\u001b[0m \u001b[0mline\u001b[0m \u001b[0;32min\u001b[0m \u001b[0mfewtext\u001b[0m\u001b[0;34m:\u001b[0m\u001b[0;34m\u001b[0m\u001b[0;34m\u001b[0m\u001b[0m\n\u001b[1;32m      3\u001b[0m         \u001b[0mprint\u001b[0m\u001b[0;34m(\u001b[0m\u001b[0mline\u001b[0m\u001b[0;34m)\u001b[0m\u001b[0;34m\u001b[0m\u001b[0;34m\u001b[0m\u001b[0m\n\u001b[0;32m----> 4\u001b[0;31m         \u001b[0mfile\u001b[0m\u001b[0;34m.\u001b[0m\u001b[0mwrite\u001b[0m\u001b[0;34m(\u001b[0m\u001b[0mline\u001b[0m\u001b[0;34m)\u001b[0m\u001b[0;34m\u001b[0m\u001b[0;34m\u001b[0m\u001b[0m\n\u001b[0m\u001b[1;32m      5\u001b[0m         \u001b[0mfile\u001b[0m\u001b[0;34m.\u001b[0m\u001b[0mwrite\u001b[0m\u001b[0;34m(\u001b[0m\u001b[0;34m'\\n'\u001b[0m\u001b[0;34m)\u001b[0m\u001b[0;34m\u001b[0m\u001b[0;34m\u001b[0m\u001b[0m\n",
      "\u001b[0;31mTypeError\u001b[0m: a bytes-like object is required, not 'str'"
     ]
    }
   ],
   "source": [
    "\n",
    "with open('csvfile.csv','wb') as file:\n",
    "    for line in fewtext:\n",
    "        print(line)\n",
    "        file.write(line)\n",
    "        file.write('\\n')"
   ]
  },
  {
   "cell_type": "code",
   "execution_count": 11,
   "id": "9f4d7e6e-9799-44b8-9ccb-ed1ba7d28329",
   "metadata": {},
   "outputs": [],
   "source": [
    "import csv\n",
    "\n",
    "# open the file in the write mode\n",
    "with open('abc.csv', 'w') as f:\n",
    "    # create the csv writer\n",
    "    writer = csv.writer(f, delimiter='\\n')\n",
    "    writer.writerow(fewtext)"
   ]
  },
  {
   "cell_type": "code",
   "execution_count": null,
   "id": "242ef239-0b8d-4238-8b29-74b39a9ecfcd",
   "metadata": {},
   "outputs": [],
   "source": []
  },
  {
   "cell_type": "markdown",
   "id": "19d4802d-45ae-4129-94ff-9180188a0149",
   "metadata": {
    "tags": []
   },
   "source": [
    "### Google API"
   ]
  },
  {
   "cell_type": "code",
   "execution_count": 6,
   "id": "d4b4b343-1db3-4114-b792-d5fdd9e045b2",
   "metadata": {},
   "outputs": [],
   "source": [
    "# Path to the Credential json (download from GG)\n",
    "os.environ[\"GOOGLE_APPLICATION_CREDENTIALS\"]=\"/home/ntnhu/projects/VideoFall-VBS2022/OCR/vbs-ocr.json\" \n",
    "\n",
    "def convert_response_to_list(res):\n",
    "    texts = res.text_annotations\n",
    "    result = []\n",
    "    for text in texts:\n",
    "        di = dict()\n",
    "        di['text'] = text.description\n",
    "        di['bb'] = [(vertex.x, vertex.y) for vertex in text.bounding_poly.vertices]\n",
    "        result.append(di)\n",
    "    return result\n",
    "\n",
    "# Declare API\n",
    "client = vision.ImageAnnotatorClient()"
   ]
  },
  {
   "cell_type": "code",
   "execution_count": 7,
   "id": "b84a7b38-3e65-4a87-b0b9-aae53c2563c4",
   "metadata": {},
   "outputs": [],
   "source": [
    "# Declare API\n",
    "client = vision.ImageAnnotatorClient()\n",
    "\n",
    "# Prepare path to a single image\n",
    "img_id = 'shot07477_1_RKF'\n",
    "path = f'/mnt/DEAKIN/VBS2022/keyframes/07477/{img_id}.png'\n",
    "# Read image\n",
    "# path = '/mnt/data/lsc2020/2015-02-23/b00000002_21i6bq_20150223_070809e.jpg'\n",
    "with io.open(path, 'rb') as image_file:\n",
    "    content = image_file.read()\n",
    "image = vision.Image(content=content)\n",
    "\n",
    "# Run API (its free 1000 times/month --> later 1.5 / 1000 calls)\n",
    "response = client.text_detection(image=image)"
   ]
  },
  {
   "cell_type": "code",
   "execution_count": 9,
   "id": "0ece2550-0ced-40c9-8e31-aa2599b4c66d",
   "metadata": {},
   "outputs": [],
   "source": [
    "texts = [text.description for text in response.text_annotations]\n",
    "temp = ' '.join(texts)"
   ]
  },
  {
   "cell_type": "code",
   "execution_count": 10,
   "id": "b8c2f25b-74e0-4457-981b-116bd428c580",
   "metadata": {},
   "outputs": [
    {
     "data": {
      "text/plain": [
       "'คำเตือน\\nสิ่งบันทึกเสียงและ วัสดุโสดทัศน์วัสดุนี้ เจ้าของลิขสิทธิ์\\nอนุญาติให้ใช้เพื่อสำหรับความบันเทิง และส่งงานวิชา Digital\\nVideo and Special Effect mulnavânivaa New Media\\nStudio คณะวิทยาการสารสนเทศ มหาวิทยาลัยมหาสารคาม,\\nmadCGparadaji. Gifted CG Animation imiu wnalurinh\\nตัดแปลง หรือเผยแพร่ โดยที่มิได้รับอณุญาติจากเจ้าของลิขสิทธิ์\\nผู้ใดฝ่าฝืน จะถูกดำเนินคดี ทางกฎหมาย ทั้งทางแพ่ง\\nและอาญา ตามพระราชบัญญัติลิขสิทธิ์ พ.ศ.2537\\n คำเตือน สิ่งบันทึกเสียงและ วัสดุโสดทัศน์วัสดุนี้ เจ้าของลิขสิทธิ์ อนุญาติให้ใช้เพื่อสำหรับความบันเทิง และส่งงานวิชา Digital Video and Special Effect mulnavânivaa New Media Studio คณะวิทยาการสารสนเทศ มหาวิทยาลัยมหาสารคาม, madCGparadaji. Gifted CG Animation imiu wnalurinh ตัดแปลง หรือเผยแพร่ โดยที่มิได้รับอณุญาติจากเจ้าของลิขสิทธิ์ ผู้ใดฝ่าฝืน จะถูกดำเนินคดี ทางกฎหมาย ทั้งทางแพ่ง และอาญา ตามพระราชบัญญัติลิขสิทธิ์ พ.ศ.2537'"
      ]
     },
     "execution_count": 10,
     "metadata": {},
     "output_type": "execute_result"
    }
   ],
   "source": [
    "temp"
   ]
  },
  {
   "cell_type": "code",
   "execution_count": null,
   "id": "423bc2c0-5003-4229-853c-172cb2983132",
   "metadata": {},
   "outputs": [],
   "source": []
  }
 ],
 "metadata": {
  "kernelspec": {
   "display_name": "ggapi",
   "language": "python",
   "name": "ggapi"
  },
  "language_info": {
   "codemirror_mode": {
    "name": "ipython",
    "version": 3
   },
   "file_extension": ".py",
   "mimetype": "text/x-python",
   "name": "python",
   "nbconvert_exporter": "python",
   "pygments_lexer": "ipython3",
   "version": "3.8.12"
  }
 },
 "nbformat": 4,
 "nbformat_minor": 5
}
