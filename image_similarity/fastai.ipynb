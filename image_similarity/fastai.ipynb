{
 "cells": [
  {
   "cell_type": "markdown",
   "id": "e32dc39a-8ca2-4cc9-99f2-189c4864eb69",
   "metadata": {},
   "source": [
    "https://towardsdatascience.com/image-similarity-theory-and-code-2b7bcce96d0a"
   ]
  },
  {
   "cell_type": "code",
   "execution_count": 1,
   "id": "8c0e5562-46fe-441f-b6b8-cb7e206c6ad1",
   "metadata": {},
   "outputs": [
    {
     "name": "stderr",
     "output_type": "stream",
     "text": [
      "/home/jarvis/anaconda3/envs/image_similarity/lib/python3.8/site-packages/torch/cuda/__init__.py:143: UserWarning: \n",
      "GeForce RTX 3080 Ti with CUDA capability sm_86 is not compatible with the current PyTorch installation.\n",
      "The current PyTorch install supports CUDA capabilities sm_37 sm_50 sm_60 sm_70.\n",
      "If you want to use the GeForce RTX 3080 Ti GPU with PyTorch, please check the instructions at https://pytorch.org/get-started/locally/\n",
      "\n",
      "  warnings.warn(incompatible_device_warn.format(device_name, capability, \" \".join(arch_list), device_name))\n"
     ]
    }
   ],
   "source": [
    "from fastai.vision.all import *\n",
    "CUDA_LAUNCH_BLOCKING=1"
   ]
  },
  {
   "cell_type": "code",
   "execution_count": 2,
   "id": "6f45a871-6b07-4f9e-ac23-71b88b796a19",
   "metadata": {},
   "outputs": [],
   "source": [
    "path = untar_data(URLs.PETS)\n",
    "files = get_image_files(path/\"images\")"
   ]
  },
  {
   "cell_type": "code",
   "execution_count": 3,
   "id": "2acd2727-a2bc-486d-a906-661095686aff",
   "metadata": {},
   "outputs": [],
   "source": [
    "def label_func(fname):\n",
    "    return re.match(r'^(.+)_\\d+.jpg$', fname.name).groups()[0]"
   ]
  },
  {
   "cell_type": "code",
   "execution_count": 4,
   "id": "62a10181-2b06-4e09-b7b5-c41e05c30e9e",
   "metadata": {},
   "outputs": [
    {
     "data": {
      "text/plain": [
       "37"
      ]
     },
     "execution_count": 4,
     "metadata": {},
     "output_type": "execute_result"
    }
   ],
   "source": [
    "labels = L(map(label_func, files)).unique()\n",
    "len(labels)"
   ]
  },
  {
   "cell_type": "code",
   "execution_count": 5,
   "id": "0da6496a-12ed-4bfc-b444-826c3df6c0e1",
   "metadata": {},
   "outputs": [],
   "source": [
    "class SiameseImage(fastuple):\n",
    "    def show(self, ctx=None, **kwargs):\n",
    "        if len(self) > 2:\n",
    "            img1,img2,similarity = self\n",
    "        else:\n",
    "            img1,img2 = self\n",
    "            similarity = 'Undetermined'\n",
    "        if not isinstance(img1, Tensor):\n",
    "            if img2.size != img1.size: img2 = img2.resize(img1.size)\n",
    "            t1,t2 = tensor(img1),tensor(img2)\n",
    "            t1,t2 = t1.permute(2,0,1),t2.permute(2,0,1)\n",
    "        else: t1,t2 = img1,img2\n",
    "        line = t1.new_zeros(t1.shape[0],t1.shape[1],10)\n",
    "        return show_image(torch.cat([t1,line,t2], dim=2),title=similarity, ctx=ctx, **kwargs)\n",
    "\n",
    "class SiameseTransform(Transform):\n",
    "    def __init__(self, files, splits):\n",
    "        self.splbl2files = [{l:[f for f in files[splits[i]] if label_func(f)==l] for l in labels}\n",
    "                            for i in range(2)]\n",
    "        self.valid = {f:self._draw(f,1) for f in files[splits[1]]}\n",
    "\n",
    "    def encodes(self, f):\n",
    "        f2,same = self.valid.get(f, self._draw(f))\n",
    "        im1,im2 = PILImage.create(f),PILImage.create(f2)\n",
    "        return SiameseImage(im1,im2,int(same))\n",
    "\n",
    "    def _draw(self, f, splits=0):\n",
    "        same = random.random() <.5\n",
    "        cls = label_func(f)\n",
    "        if not same: cls = random.choice([l for l in labels if l != cls])\n",
    "        return random.choice([f for f in self.splbl2files[splits][cls]]),same"
   ]
  },
  {
   "cell_type": "code",
   "execution_count": 1,
   "id": "54bac5a6-ea9a-4802-909e-4753def6522f",
   "metadata": {},
   "outputs": [],
   "source": [
    "# splits = RandomSplitter(seed=23)(files)\n",
    "# tfm = SiameseTransform(files, splits)\n",
    "# tls = TfmdLists(files, tfm, splits=splits)\n",
    "# sdls = tls.dataloaders(after_item=[Resize(224), ToTensor], \n",
    "#     after_batch=[IntToFloatTensor, Normalize.from_stats(*imagenet_stats)])"
   ]
  },
  {
   "cell_type": "code",
   "execution_count": null,
   "id": "30dbe0fe-7f57-4062-98ff-1ae3d3df2b8c",
   "metadata": {},
   "outputs": [],
   "source": []
  }
 ],
 "metadata": {
  "kernelspec": {
   "display_name": "event",
   "language": "python",
   "name": "event"
  },
  "language_info": {
   "codemirror_mode": {
    "name": "ipython",
    "version": 3
   },
   "file_extension": ".py",
   "mimetype": "text/x-python",
   "name": "python",
   "nbconvert_exporter": "python",
   "pygments_lexer": "ipython3",
   "version": "3.8.12"
  }
 },
 "nbformat": 4,
 "nbformat_minor": 5
}
